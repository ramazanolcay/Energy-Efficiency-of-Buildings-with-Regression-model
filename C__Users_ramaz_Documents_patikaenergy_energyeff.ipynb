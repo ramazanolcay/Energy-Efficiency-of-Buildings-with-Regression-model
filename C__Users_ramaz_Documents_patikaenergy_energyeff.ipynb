{
 "cells": [
  {
   "cell_type": "code",
   "execution_count": 1,
   "id": "514ce857",
   "metadata": {},
   "outputs": [],
   "source": [
    "import numpy as np\n",
    "import pandas as pd\n",
    "import matplotlib.pyplot as plt"
   ]
  },
  {
   "cell_type": "code",
   "execution_count": 8,
   "id": "cd55393e",
   "metadata": {},
   "outputs": [],
   "source": [
    "veriler = pd.read_excel(\"https://archive.ics.uci.edu/ml/machine-learning-databases/00242/ENB2012_data.xlsx\")"
   ]
  },
  {
   "cell_type": "code",
   "execution_count": 9,
   "id": "1cf78d71",
   "metadata": {},
   "outputs": [
    {
     "data": {
      "text/html": [
       "<div>\n",
       "<style scoped>\n",
       "    .dataframe tbody tr th:only-of-type {\n",
       "        vertical-align: middle;\n",
       "    }\n",
       "\n",
       "    .dataframe tbody tr th {\n",
       "        vertical-align: top;\n",
       "    }\n",
       "\n",
       "    .dataframe thead th {\n",
       "        text-align: right;\n",
       "    }\n",
       "</style>\n",
       "<table border=\"1\" class=\"dataframe\">\n",
       "  <thead>\n",
       "    <tr style=\"text-align: right;\">\n",
       "      <th></th>\n",
       "      <th>X1</th>\n",
       "      <th>X2</th>\n",
       "      <th>X3</th>\n",
       "      <th>X4</th>\n",
       "      <th>X5</th>\n",
       "      <th>X6</th>\n",
       "      <th>X7</th>\n",
       "      <th>X8</th>\n",
       "      <th>Y1</th>\n",
       "      <th>Y2</th>\n",
       "    </tr>\n",
       "  </thead>\n",
       "  <tbody>\n",
       "    <tr>\n",
       "      <th>0</th>\n",
       "      <td>0.98</td>\n",
       "      <td>514.5</td>\n",
       "      <td>294.0</td>\n",
       "      <td>110.25</td>\n",
       "      <td>7.0</td>\n",
       "      <td>2</td>\n",
       "      <td>0.0</td>\n",
       "      <td>0</td>\n",
       "      <td>15.55</td>\n",
       "      <td>21.33</td>\n",
       "    </tr>\n",
       "    <tr>\n",
       "      <th>1</th>\n",
       "      <td>0.98</td>\n",
       "      <td>514.5</td>\n",
       "      <td>294.0</td>\n",
       "      <td>110.25</td>\n",
       "      <td>7.0</td>\n",
       "      <td>3</td>\n",
       "      <td>0.0</td>\n",
       "      <td>0</td>\n",
       "      <td>15.55</td>\n",
       "      <td>21.33</td>\n",
       "    </tr>\n",
       "    <tr>\n",
       "      <th>2</th>\n",
       "      <td>0.98</td>\n",
       "      <td>514.5</td>\n",
       "      <td>294.0</td>\n",
       "      <td>110.25</td>\n",
       "      <td>7.0</td>\n",
       "      <td>4</td>\n",
       "      <td>0.0</td>\n",
       "      <td>0</td>\n",
       "      <td>15.55</td>\n",
       "      <td>21.33</td>\n",
       "    </tr>\n",
       "    <tr>\n",
       "      <th>3</th>\n",
       "      <td>0.98</td>\n",
       "      <td>514.5</td>\n",
       "      <td>294.0</td>\n",
       "      <td>110.25</td>\n",
       "      <td>7.0</td>\n",
       "      <td>5</td>\n",
       "      <td>0.0</td>\n",
       "      <td>0</td>\n",
       "      <td>15.55</td>\n",
       "      <td>21.33</td>\n",
       "    </tr>\n",
       "    <tr>\n",
       "      <th>4</th>\n",
       "      <td>0.90</td>\n",
       "      <td>563.5</td>\n",
       "      <td>318.5</td>\n",
       "      <td>122.50</td>\n",
       "      <td>7.0</td>\n",
       "      <td>2</td>\n",
       "      <td>0.0</td>\n",
       "      <td>0</td>\n",
       "      <td>20.84</td>\n",
       "      <td>28.28</td>\n",
       "    </tr>\n",
       "  </tbody>\n",
       "</table>\n",
       "</div>"
      ],
      "text/plain": [
       "     X1     X2     X3      X4   X5  X6   X7  X8     Y1     Y2\n",
       "0  0.98  514.5  294.0  110.25  7.0   2  0.0   0  15.55  21.33\n",
       "1  0.98  514.5  294.0  110.25  7.0   3  0.0   0  15.55  21.33\n",
       "2  0.98  514.5  294.0  110.25  7.0   4  0.0   0  15.55  21.33\n",
       "3  0.98  514.5  294.0  110.25  7.0   5  0.0   0  15.55  21.33\n",
       "4  0.90  563.5  318.5  122.50  7.0   2  0.0   0  20.84  28.28"
      ]
     },
     "execution_count": 9,
     "metadata": {},
     "output_type": "execute_result"
    }
   ],
   "source": [
    "veriler.head()"
   ]
  },
  {
   "cell_type": "code",
   "execution_count": 10,
   "id": "6540a80a",
   "metadata": {},
   "outputs": [],
   "source": [
    "#There are no column names\n",
    "veriler.columns = [\"Relative Compactness\",\"Surface Area\",\"Wall Area\",\n",
    "                \"Roof Area\", \"Overall Height\",\"Orientation\",\"Glazing Area\",\n",
    "                \"Glazing Area Distribution\", \"Heating Load\", \"Cooling Load\"]"
   ]
  },
  {
   "cell_type": "code",
   "execution_count": 11,
   "id": "cfb5ae1e",
   "metadata": {},
   "outputs": [
    {
     "data": {
      "text/plain": [
       "Relative Compactness         0\n",
       "Surface Area                 0\n",
       "Wall Area                    0\n",
       "Roof Area                    0\n",
       "Overall Height               0\n",
       "Orientation                  0\n",
       "Glazing Area                 0\n",
       "Glazing Area Distribution    0\n",
       "Heating Load                 0\n",
       "Cooling Load                 0\n",
       "dtype: int64"
      ]
     },
     "execution_count": 11,
     "metadata": {},
     "output_type": "execute_result"
    }
   ],
   "source": [
    "nan_check = np.isnan(veriler).sum()\n",
    "nan_check"
   ]
  },
  {
   "cell_type": "code",
   "execution_count": 12,
   "id": "e1ec17f1",
   "metadata": {},
   "outputs": [],
   "source": [
    "#No nan value, I am spliting data as test and train\n",
    "\n",
    "x  = veriler.iloc[:,:-2]\n",
    "X  = x.values\n",
    "y = veriler.iloc[:,-2:]\n",
    "Y = y.values\n",
    "\n",
    "\n",
    "from sklearn.model_selection import train_test_split\n",
    "x_train , x_test , y_train , y_test = train_test_split(x , y , test_size=0.33 , random_state =0)"
   ]
  },
  {
   "cell_type": "code",
   "execution_count": 13,
   "id": "31eafb81",
   "metadata": {},
   "outputs": [
    {
     "name": "stdout",
     "output_type": "stream",
     "text": [
      "Lineer Reg R2 0.8815634361508748\n",
      "Mean Squared Linear 9.673963841527755\n"
     ]
    }
   ],
   "source": [
    "#linear regression\n",
    "from sklearn.linear_model import LinearRegression\n",
    "lin_reg1 = LinearRegression()\n",
    "\n",
    "lin_reg1 = LinearRegression()\n",
    "lin_reg1.fit(x_train,y_train)\n",
    "y_pred_lin_reg = lin_reg1.predict(x_test)\n",
    "\n",
    "from sklearn.metrics import r2_score\n",
    "from sklearn.metrics import mean_squared_error\n",
    "\n",
    "r2_score_lr = r2_score(y_pred_lin_reg,y_test)\n",
    "print(\"Lineer Reg R2\",r2_score_lr)\n",
    "mse_lr = mean_squared_error(y_test, y_pred_lin_reg)\n",
    "print(\"Mean Squared Linear\",mse_lr)"
   ]
  },
  {
   "cell_type": "code",
   "execution_count": 14,
   "id": "16e992a3",
   "metadata": {},
   "outputs": [
    {
     "name": "stdout",
     "output_type": "stream",
     "text": [
      "Polynomial Reg R2 0.9839004964843308\n",
      "Mean Squared Linear 1.4839395167617886\n"
     ]
    }
   ],
   "source": [
    "#polynomial regression\n",
    "from sklearn.preprocessing import PolynomialFeatures\n",
    "poly_reg = PolynomialFeatures(degree = 4)\n",
    "x_poly = poly_reg.fit_transform(x_train)\n",
    "lin_reg2 = LinearRegression()\n",
    "lin_reg2.fit(x_poly,y_train)\n",
    "y_pred_plr = lin_reg2.predict(poly_reg.fit_transform(x_test))\n",
    "r2_score_plr = r2_score(y_pred_plr,y_test)\n",
    "print(\"Polynomial Reg R2\",r2_score_plr)\n",
    "mse_plr = mean_squared_error(y_test, y_pred_plr)\n",
    "print(\"Mean Squared Linear\",mse_plr)"
   ]
  },
  {
   "cell_type": "code",
   "execution_count": 15,
   "id": "9b0b8b99",
   "metadata": {},
   "outputs": [
    {
     "name": "stdout",
     "output_type": "stream",
     "text": [
      "DesicionTree R2 0.9654989882820303\n",
      "Mean Squared Decision Tree 3.240758968503936\n"
     ]
    }
   ],
   "source": [
    "#DesicionTree\n",
    "from sklearn.tree import DecisionTreeRegressor\n",
    "reg_dt = DecisionTreeRegressor(random_state=0)\n",
    "reg_dt.fit(x_train,y_train)\n",
    "\n",
    "y_predict_dt = reg_dt.predict(x_test)\n",
    "r2_dt = r2_score(y_predict_dt,y_test)\n",
    "mse_dt = mean_squared_error(y_test, y_predict_dt)\n",
    "print(\"DesicionTree R2\",r2_dt)\n",
    "print(\"Mean Squared Decision Tree\",mse_dt)"
   ]
  },
  {
   "cell_type": "code",
   "execution_count": 16,
   "id": "c58d039b",
   "metadata": {},
   "outputs": [
    {
     "name": "stdout",
     "output_type": "stream",
     "text": [
      "Random Forest R2 0.9781114694077908\n",
      "Mean Squared Random Forest 1.970995113222837\n"
     ]
    }
   ],
   "source": [
    "#Random Forest Regression\n",
    "from sklearn.ensemble import RandomForestRegressor\n",
    "rf_reg=RandomForestRegressor(n_estimators=100,random_state=0)\n",
    "rf_reg.fit(x_train,y_train)\n",
    "y_pred_rf = rf_reg.predict(x_test)\n",
    "r2_score_rf = r2_score(y_test, y_pred_rf)\n",
    "mse_rf = mean_squared_error(y_test, y_pred_rf)\n",
    "print('Random Forest R2',r2_score_rf)\n",
    "print(\"Mean Squared Random Forest\",mse_rf)"
   ]
  },
  {
   "cell_type": "code",
   "execution_count": 17,
   "id": "32bb3326",
   "metadata": {},
   "outputs": [
    {
     "name": "stdout",
     "output_type": "stream",
     "text": [
      "Gaussian Process Regressor R2 0.9860873125079337\n",
      "Mean Squared Gaussian Process Regressor 1.3262443760873484\n"
     ]
    }
   ],
   "source": [
    "#GaussianProcessRegressor\n",
    "from sklearn.gaussian_process import GaussianProcessRegressor\n",
    "gpr = GaussianProcessRegressor(random_state=0)\n",
    "gpr.fit(x_train,y_train)\n",
    "y_pred_gpr = gpr.predict(x_test)\n",
    "r2_score_gpr = r2_score(y_test, y_pred_gpr)\n",
    "mse_gpr = mean_squared_error(y_test, y_pred_gpr)\n",
    "print('Gaussian Process Regressor R2',r2_score_gpr)\n",
    "print(\"Mean Squared Gaussian Process Regressor\",mse_gpr)"
   ]
  },
  {
   "cell_type": "code",
   "execution_count": 18,
   "id": "4eed6b1c",
   "metadata": {},
   "outputs": [
    {
     "name": "stdout",
     "output_type": "stream",
     "text": [
      "PLS Regressor R2 0.8592697182619455\n",
      "Mean Squared Error PLS 13.335719497854257\n"
     ]
    }
   ],
   "source": [
    "#PLS Regression\n",
    "from sklearn.cross_decomposition import PLSRegression\n",
    "pls = PLSRegression(n_components=8)\n",
    "pls.fit(x_train,y_train)\n",
    "y_pred_pls = pls.predict(x_test)\n",
    "r2_score_pls = r2_score(y_test, y_pred_pls)\n",
    "mse_pls = mean_squared_error(y_test, y_pred_pls)\n",
    "print('PLS Regressor R2',r2_score_pls)\n",
    "print(\"Mean Squared Error PLS\",mse_pls)"
   ]
  },
  {
   "cell_type": "code",
   "execution_count": 19,
   "id": "ec295208",
   "metadata": {},
   "outputs": [
    {
     "name": "stdout",
     "output_type": "stream",
     "text": [
      "XGboost Regressor R2 0.9922685236412074\n",
      "Mean Squared Error XGboost 0.7010942968551517\n"
     ]
    }
   ],
   "source": [
    "#XGboost\n",
    "import xgboost as xg\n",
    "xgb_r = xg.XGBRegressor()\n",
    "xgb_r.fit(x_train, y_train)\n",
    "pred_xg = xgb_r.predict(x_test)\n",
    "r2_score_xg = r2_score(y_test, pred_xg)\n",
    "mse_xg = mean_squared_error(y_test, pred_xg)\n",
    "print('XGboost Regressor R2',r2_score_xg)\n",
    "print(\"Mean Squared Error XGboost\",mse_xg)"
   ]
  },
  {
   "cell_type": "code",
   "execution_count": 20,
   "id": "d8e3881d",
   "metadata": {},
   "outputs": [
    {
     "data": {
      "text/html": [
       "<div>\n",
       "<style scoped>\n",
       "    .dataframe tbody tr th:only-of-type {\n",
       "        vertical-align: middle;\n",
       "    }\n",
       "\n",
       "    .dataframe tbody tr th {\n",
       "        vertical-align: top;\n",
       "    }\n",
       "\n",
       "    .dataframe thead th {\n",
       "        text-align: right;\n",
       "    }\n",
       "</style>\n",
       "<table border=\"1\" class=\"dataframe\">\n",
       "  <thead>\n",
       "    <tr style=\"text-align: right;\">\n",
       "      <th></th>\n",
       "      <th>Linear</th>\n",
       "      <th>Polynomial</th>\n",
       "      <th>DecisionTree</th>\n",
       "      <th>RandomForest</th>\n",
       "      <th>Gaussian</th>\n",
       "      <th>PLS</th>\n",
       "      <th>XGboost</th>\n",
       "    </tr>\n",
       "  </thead>\n",
       "  <tbody>\n",
       "    <tr>\n",
       "      <th>0</th>\n",
       "      <td>9.673964</td>\n",
       "      <td>1.48394</td>\n",
       "      <td>3.240759</td>\n",
       "      <td>1.970995</td>\n",
       "      <td>1.326244</td>\n",
       "      <td>13.335719</td>\n",
       "      <td>0.701094</td>\n",
       "    </tr>\n",
       "    <tr>\n",
       "      <th>1</th>\n",
       "      <td>0.881563</td>\n",
       "      <td>0.98390</td>\n",
       "      <td>0.965499</td>\n",
       "      <td>0.978111</td>\n",
       "      <td>0.986087</td>\n",
       "      <td>0.859270</td>\n",
       "      <td>0.992269</td>\n",
       "    </tr>\n",
       "  </tbody>\n",
       "</table>\n",
       "</div>"
      ],
      "text/plain": [
       "     Linear  Polynomial  DecisionTree  RandomForest  Gaussian        PLS  \\\n",
       "0  9.673964     1.48394      3.240759      1.970995  1.326244  13.335719   \n",
       "1  0.881563     0.98390      0.965499      0.978111  0.986087   0.859270   \n",
       "\n",
       "    XGboost  \n",
       "0  0.701094  \n",
       "1  0.992269  "
      ]
     },
     "execution_count": 20,
     "metadata": {},
     "output_type": "execute_result"
    }
   ],
   "source": [
    "tips = [\n",
    "        [mse_lr,r2_score_lr]\n",
    "        ,[mse_plr,r2_score_plr]\n",
    "        ,[mse_dt,r2_dt]\n",
    "        ,[mse_rf,r2_score_rf]\n",
    "        ,[mse_gpr,r2_score_gpr]\n",
    "        ,[mse_pls,r2_score_pls]\n",
    "        ,[mse_xg,r2_score_xg]\n",
    "        ]\n",
    "tips = pd.DataFrame(data=tips).transpose()\n",
    "tips.columns = [\"Linear\",\"Polynomial\",\"DecisionTree\",\"RandomForest\"\n",
    "                            ,\"Gaussian\",\"PLS\",\"XGboost\"]\n",
    "tips"
   ]
  },
  {
   "cell_type": "code",
   "execution_count": null,
   "id": "8e5d1f88",
   "metadata": {},
   "outputs": [],
   "source": [
    "#XGboost is the best"
   ]
  }
 ],
 "metadata": {
  "kernelspec": {
   "display_name": "Python 3 (ipykernel)",
   "language": "python",
   "name": "python3"
  },
  "language_info": {
   "codemirror_mode": {
    "name": "ipython",
    "version": 3
   },
   "file_extension": ".py",
   "mimetype": "text/x-python",
   "name": "python",
   "nbconvert_exporter": "python",
   "pygments_lexer": "ipython3",
   "version": "3.8.10"
  }
 },
 "nbformat": 4,
 "nbformat_minor": 5
}
